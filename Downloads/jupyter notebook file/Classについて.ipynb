{
 "cells": [
  {
   "cell_type": "code",
   "execution_count": 5,
   "metadata": {},
   "outputs": [],
   "source": [
    "with open(\"Study20Data\",\"a\",encoding=\"utf_8\")as file:\n",
    "    file.write(\"ABC\")\n",
    "    file.write(\"DEF\\n\")\n",
    "    file.write(\"GHI\\n\")\n",
    "    \n",
    "    "
   ]
  },
  {
   "cell_type": "code",
   "execution_count": 10,
   "metadata": {},
   "outputs": [
    {
     "name": "stdout",
     "output_type": "stream",
     "text": [
      "Izumiyama:24\n",
      "Yohei Izumiyama\n",
      "メンバーの数：2\n",
      "Yohei Izumiyama1996年生まれ\n"
     ]
    }
   ],
   "source": [
    "class TeamA:\n",
    "    member=0\n",
    "    def __init__(self,name,age):\n",
    "        self.name=name\n",
    "        self.age=age\n",
    "        TeamA.member+=1\n",
    "    def getBornYear(self):\n",
    "        return 2020-self.age\n",
    "    \n",
    "yohei=TeamA(\"Izumiyama\",24)\n",
    "print(yohei.name+\":\"+str(yohei.age))\n",
    "yohei.name=\"Yohei Izumiyama\"\n",
    "print(yohei.name)\n",
    "mitumori=TeamA(\"maria\",18)\n",
    "print(\"メンバーの数：\"+str(TeamA.member))\n",
    "print(yohei.name+str(yohei.getBornYear())+\"年生まれ\")\n",
    "        "
   ]
  },
  {
   "cell_type": "code",
   "execution_count": 58,
   "metadata": {},
   "outputs": [],
   "source": [
    "class Person:\n",
    "    member=0\n",
    "    def __init__(self,name,nationality,age):\n",
    "        #属性を与える\n",
    "        self.name=name                  \n",
    "        self.nationality=nationality\n",
    "        self.age=age     \n",
    "    \n",
    "    def __call__(self):\n",
    "        print(\"ここはcall関数です。\")\n",
    "    \n",
    "    def say_hello(self,name):\n",
    "        #selfはインスタンス自身がsay_helloの関数を呼び出すということ\n",
    "        print(\"こんにちは、{}さん。わたしは{}です。\".format(name,self.name)) "
   ]
  },
  {
   "cell_type": "code",
   "execution_count": 59,
   "metadata": {},
   "outputs": [],
   "source": [
    "#インスタンス化（実体化）\n",
    "izumiyama=Person(\"泉山\",\"日本\",24)\n",
    "izumiyama.name    #izumiyama、の(.)、属性（name）は？＝”泉山”\n",
    "\n",
    "mike=Person(\"マイク\",\"アメリカ\",19)"
   ]
  },
  {
   "cell_type": "code",
   "execution_count": 60,
   "metadata": {},
   "outputs": [
    {
     "name": "stdout",
     "output_type": "stream",
     "text": [
      "こんにちは、佐藤さん。わたしは泉山です。\n"
     ]
    }
   ],
   "source": [
    "izumiyama.say_hello(\"佐藤\")"
   ]
  },
  {
   "cell_type": "code",
   "execution_count": 61,
   "metadata": {},
   "outputs": [
    {
     "name": "stdout",
     "output_type": "stream",
     "text": [
      "こんにちは、佐藤さん。わたしはマイクです。\n"
     ]
    }
   ],
   "source": [
    "mike.say_hello(\"佐藤\")"
   ]
  },
  {
   "cell_type": "code",
   "execution_count": 45,
   "metadata": {},
   "outputs": [
    {
     "data": {
      "text/plain": [
       "0"
      ]
     },
     "execution_count": 45,
     "metadata": {},
     "output_type": "execute_result"
    }
   ],
   "source": [
    "Person.member"
   ]
  },
  {
   "cell_type": "code",
   "execution_count": 82,
   "metadata": {},
   "outputs": [],
   "source": [
    "class Saiyan(Person):\n",
    "    def __init__(self,name,nationality,age,strength):\n",
    "        super().__init__(name,nationality,age)\n",
    "        self.strength=strength"
   ]
  },
  {
   "cell_type": "code",
   "execution_count": 83,
   "metadata": {},
   "outputs": [],
   "source": [
    "goku=Saiyan(\"悟空\",\"宇宙\",15,10000)"
   ]
  },
  {
   "cell_type": "code",
   "execution_count": 85,
   "metadata": {},
   "outputs": [
    {
     "data": {
      "text/plain": [
       "'悟空'"
      ]
     },
     "execution_count": 85,
     "metadata": {},
     "output_type": "execute_result"
    }
   ],
   "source": [
    "goku.name"
   ]
  },
  {
   "cell_type": "code",
   "execution_count": 87,
   "metadata": {},
   "outputs": [
    {
     "name": "stdout",
     "output_type": "stream",
     "text": [
      "こんにちは、泉山さん。わたしは悟空です。\n"
     ]
    }
   ],
   "source": [
    "goku.say_hello(\"泉山\")"
   ]
  }
 ],
 "metadata": {
  "kernelspec": {
   "display_name": "Python 3",
   "language": "python",
   "name": "python3"
  },
  "language_info": {
   "codemirror_mode": {
    "name": "ipython",
    "version": 3
   },
   "file_extension": ".py",
   "mimetype": "text/x-python",
   "name": "python",
   "nbconvert_exporter": "python",
   "pygments_lexer": "ipython3",
   "version": "3.7.4"
  }
 },
 "nbformat": 4,
 "nbformat_minor": 2
}
