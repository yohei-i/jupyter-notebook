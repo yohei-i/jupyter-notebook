{
 "cells": [
  {
   "cell_type": "code",
   "execution_count": 16,
   "metadata": {},
   "outputs": [],
   "source": [
    "import numpy as np\n",
    "import matplotlib.pyplot as  plt\n",
    "from sklearn.datasets import load_digits"
   ]
  },
  {
   "cell_type": "code",
   "execution_count": 17,
   "metadata": {},
   "outputs": [
    {
     "data": {
      "text/plain": [
       "{'data': array([[ 0.,  0.,  5., ...,  0.,  0.,  0.],\n",
       "        [ 0.,  0.,  0., ..., 10.,  0.,  0.],\n",
       "        [ 0.,  0.,  0., ..., 16.,  9.,  0.],\n",
       "        ...,\n",
       "        [ 0.,  0.,  1., ...,  6.,  0.,  0.],\n",
       "        [ 0.,  0.,  2., ..., 12.,  0.,  0.],\n",
       "        [ 0.,  0., 10., ..., 12.,  1.,  0.]]),\n",
       " 'target': array([0, 1, 2, ..., 8, 9, 8]),\n",
       " 'target_names': array([0, 1, 2, 3, 4, 5, 6, 7, 8, 9]),\n",
       " 'images': array([[[ 0.,  0.,  5., ...,  1.,  0.,  0.],\n",
       "         [ 0.,  0., 13., ..., 15.,  5.,  0.],\n",
       "         [ 0.,  3., 15., ..., 11.,  8.,  0.],\n",
       "         ...,\n",
       "         [ 0.,  4., 11., ..., 12.,  7.,  0.],\n",
       "         [ 0.,  2., 14., ..., 12.,  0.,  0.],\n",
       "         [ 0.,  0.,  6., ...,  0.,  0.,  0.]],\n",
       " \n",
       "        [[ 0.,  0.,  0., ...,  5.,  0.,  0.],\n",
       "         [ 0.,  0.,  0., ...,  9.,  0.,  0.],\n",
       "         [ 0.,  0.,  3., ...,  6.,  0.,  0.],\n",
       "         ...,\n",
       "         [ 0.,  0.,  1., ...,  6.,  0.,  0.],\n",
       "         [ 0.,  0.,  1., ...,  6.,  0.,  0.],\n",
       "         [ 0.,  0.,  0., ..., 10.,  0.,  0.]],\n",
       " \n",
       "        [[ 0.,  0.,  0., ..., 12.,  0.,  0.],\n",
       "         [ 0.,  0.,  3., ..., 14.,  0.,  0.],\n",
       "         [ 0.,  0.,  8., ..., 16.,  0.,  0.],\n",
       "         ...,\n",
       "         [ 0.,  9., 16., ...,  0.,  0.,  0.],\n",
       "         [ 0.,  3., 13., ..., 11.,  5.,  0.],\n",
       "         [ 0.,  0.,  0., ..., 16.,  9.,  0.]],\n",
       " \n",
       "        ...,\n",
       " \n",
       "        [[ 0.,  0.,  1., ...,  1.,  0.,  0.],\n",
       "         [ 0.,  0., 13., ...,  2.,  1.,  0.],\n",
       "         [ 0.,  0., 16., ..., 16.,  5.,  0.],\n",
       "         ...,\n",
       "         [ 0.,  0., 16., ..., 15.,  0.,  0.],\n",
       "         [ 0.,  0., 15., ..., 16.,  0.,  0.],\n",
       "         [ 0.,  0.,  2., ...,  6.,  0.,  0.]],\n",
       " \n",
       "        [[ 0.,  0.,  2., ...,  0.,  0.,  0.],\n",
       "         [ 0.,  0., 14., ..., 15.,  1.,  0.],\n",
       "         [ 0.,  4., 16., ..., 16.,  7.,  0.],\n",
       "         ...,\n",
       "         [ 0.,  0.,  0., ..., 16.,  2.,  0.],\n",
       "         [ 0.,  0.,  4., ..., 16.,  2.,  0.],\n",
       "         [ 0.,  0.,  5., ..., 12.,  0.,  0.]],\n",
       " \n",
       "        [[ 0.,  0., 10., ...,  1.,  0.,  0.],\n",
       "         [ 0.,  2., 16., ...,  1.,  0.,  0.],\n",
       "         [ 0.,  0., 15., ..., 15.,  0.,  0.],\n",
       "         ...,\n",
       "         [ 0.,  4., 16., ..., 16.,  6.,  0.],\n",
       "         [ 0.,  8., 16., ..., 16.,  8.,  0.],\n",
       "         [ 0.,  1.,  8., ..., 12.,  1.,  0.]]]),\n",
       " 'DESCR': \".. _digits_dataset:\\n\\nOptical recognition of handwritten digits dataset\\n--------------------------------------------------\\n\\n**Data Set Characteristics:**\\n\\n    :Number of Instances: 5620\\n    :Number of Attributes: 64\\n    :Attribute Information: 8x8 image of integer pixels in the range 0..16.\\n    :Missing Attribute Values: None\\n    :Creator: E. Alpaydin (alpaydin '@' boun.edu.tr)\\n    :Date: July; 1998\\n\\nThis is a copy of the test set of the UCI ML hand-written digits datasets\\nhttps://archive.ics.uci.edu/ml/datasets/Optical+Recognition+of+Handwritten+Digits\\n\\nThe data set contains images of hand-written digits: 10 classes where\\neach class refers to a digit.\\n\\nPreprocessing programs made available by NIST were used to extract\\nnormalized bitmaps of handwritten digits from a preprinted form. From a\\ntotal of 43 people, 30 contributed to the training set and different 13\\nto the test set. 32x32 bitmaps are divided into nonoverlapping blocks of\\n4x4 and the number of on pixels are counted in each block. This generates\\nan input matrix of 8x8 where each element is an integer in the range\\n0..16. This reduces dimensionality and gives invariance to small\\ndistortions.\\n\\nFor info on NIST preprocessing routines, see M. D. Garris, J. L. Blue, G.\\nT. Candela, D. L. Dimmick, J. Geist, P. J. Grother, S. A. Janet, and C.\\nL. Wilson, NIST Form-Based Handprint Recognition System, NISTIR 5469,\\n1994.\\n\\n.. topic:: References\\n\\n  - C. Kaynak (1995) Methods of Combining Multiple Classifiers and Their\\n    Applications to Handwritten Digit Recognition, MSc Thesis, Institute of\\n    Graduate Studies in Science and Engineering, Bogazici University.\\n  - E. Alpaydin, C. Kaynak (1998) Cascading Classifiers, Kybernetika.\\n  - Ken Tang and Ponnuthurai N. Suganthan and Xi Yao and A. Kai Qin.\\n    Linear dimensionalityreduction using relevance weighted LDA. School of\\n    Electrical and Electronic Engineering Nanyang Technological University.\\n    2005.\\n  - Claudio Gentile. A New Approximate Maximal Margin Classification\\n    Algorithm. NIPS. 2000.\"}"
      ]
     },
     "execution_count": 17,
     "metadata": {},
     "output_type": "execute_result"
    }
   ],
   "source": [
    "digits = load_digits()\n",
    "digits"
   ]
  },
  {
   "cell_type": "code",
   "execution_count": 18,
   "metadata": {},
   "outputs": [],
   "source": [
    "x = digits.data\n",
    "y = digits.target"
   ]
  },
  {
   "cell_type": "code",
   "execution_count": 25,
   "metadata": {},
   "outputs": [
    {
     "data": {
      "text/plain": [
       "(1797, 64)"
      ]
     },
     "execution_count": 25,
     "metadata": {},
     "output_type": "execute_result"
    }
   ],
   "source": [
    "x.shape"
   ]
  },
  {
   "cell_type": "code",
   "execution_count": 28,
   "metadata": {},
   "outputs": [
    {
     "data": {
      "text/plain": [
       "<function matplotlib.pyplot.show(*args, **kw)>"
      ]
     },
     "execution_count": 28,
     "metadata": {},
     "output_type": "execute_result"
    },
    {
     "data": {
      "image/png": "[encoded data removed]",
      "text/plain": [
       "<Figure size 1080x432 with 10 Axes>"
      ]
     },
     "metadata": {
      "needs_background": "light"
     },
     "output_type": "display_data"
    }
   ],
   "source": [
    "images_with_labels = list(zip(digits.images,digits.target))\n",
    "plt.figure(figsize=(15,6))\n",
    "\n",
    "for idx,(image,label) in enumerate(images_with_labels[:10]):\n",
    "    plt.subplot(2,5,idx + 1)\n",
    "    plt.imshow(image,cmap=plt.cm.gray_r,interpolation='nearest')\n",
    "    plt.axis('off')\n",
    "    plt.title('{}'.format(label),fontsize=25)\n",
    "    \n",
    "plt.show"
   ]
  },
  {
   "cell_type": "code",
   "execution_count": 30,
   "metadata": {},
   "outputs": [
    {
     "data": {
      "text/plain": [
       "(1797, 8, 8)"
      ]
     },
     "execution_count": 30,
     "metadata": {},
     "output_type": "execute_result"
    }
   ],
   "source": [
    "digits.images.shape"
   ]
  },
  {
   "cell_type": "code",
   "execution_count": 48,
   "metadata": {},
   "outputs": [],
   "source": [
    "from sklearn.model_selection import train_test_split\n",
    "from sklearn.preprocessing import StandardScaler \n",
    "from sklearn.linear_model import LogisticRegression"
   ]
  },
  {
   "cell_type": "code",
   "execution_count": 49,
   "metadata": {},
   "outputs": [],
   "source": [
    "x_train,x_test,y_train,y_test = train_test_split(x,y,random_state = 0)"
   ]
  },
  {
   "cell_type": "code",
   "execution_count": 50,
   "metadata": {},
   "outputs": [],
   "source": [
    "scaler = StandardScaler()\n",
    "x_train_scaled = scaler.fit_transform(x_train)\n",
    "x_test_scaled = scaler.fit_transform(x_test)"
   ]
  },
  {
   "cell_type": "code",
   "execution_count": 51,
   "metadata": {},
   "outputs": [
    {
     "name": "stderr",
     "output_type": "stream",
     "text": [
      "/Users/seru/opt/anaconda3/lib/python3.7/site-packages/sklearn/linear_model/logistic.py:432: FutureWarning: Default solver will be changed to 'lbfgs' in 0.22. Specify a solver to silence this warning.\n",
      "  FutureWarning)\n",
      "/Users/seru/opt/anaconda3/lib/python3.7/site-packages/sklearn/linear_model/logistic.py:469: FutureWarning: Default multi_class will be changed to 'auto' in 0.22. Specify the multi_class option to silence this warning.\n",
      "  \"this warning.\", FutureWarning)\n"
     ]
    }
   ],
   "source": [
    "log_reg = LogisticRegression().fit(x_train,y_train)"
   ]
  },
  {
   "cell_type": "code",
   "execution_count": 52,
   "metadata": {},
   "outputs": [
    {
     "data": {
      "text/plain": [
       "(array([-0.02262176, -2.41798447, -0.02573874, -0.14912538,  0.01915467,\n",
       "        -0.04661683, -0.06110564, -0.02042797, -2.60045357, -0.84797796]),\n",
       " array([[ 0.00000000e+00, -3.82306881e-02, -9.96057333e-02,\n",
       "          9.47653333e-02, -1.37333024e-01, -3.08765500e-01,\n",
       "         -2.43909611e-01, -2.93687402e-02, -1.72100248e-05,\n",
       "         -1.15081259e-01, -5.44334377e-02,  1.64425094e-01,\n",
       "          1.88781688e-01,  2.50535582e-01, -5.38328425e-02,\n",
       "         -2.14546606e-02, -4.39437258e-06,  7.02893746e-02,\n",
       "          1.36383811e-01, -1.58758511e-01, -3.52504185e-01,\n",
       "          3.21851425e-01, -1.50431035e-03, -3.20613239e-03,\n",
       "         -1.23801035e-06,  4.12976037e-02, -4.28328349e-02,\n",
       "         -1.30596559e-01, -5.56745750e-01,  1.44238770e-02,\n",
       "          2.88744369e-02, -2.68234230e-04,  0.00000000e+00,\n",
       "          1.56974853e-01,  5.77056028e-02, -1.81463743e-01,\n",
       "         -5.77166692e-01, -1.33848929e-02, -4.25556765e-02,\n",
       "          0.00000000e+00, -2.08820059e-03, -1.01120360e-01,\n",
       "          2.86859505e-01, -2.69048440e-01, -2.85233468e-01,\n",
       "          4.08282529e-02,  4.87699016e-02, -1.44814022e-04,\n",
       "         -2.19247552e-03, -1.19857009e-01,  2.95316465e-02,\n",
       "          1.58913028e-02,  1.64838917e-01,  1.93970464e-02,\n",
       "         -7.20179514e-02, -1.12862712e-02, -6.79278732e-06,\n",
       "         -4.30455979e-02, -2.42125436e-01,  1.15610127e-01,\n",
       "         -3.46797592e-01, -1.85237802e-01, -9.23082160e-02,\n",
       "         -3.18533183e-02],\n",
       "        [ 0.00000000e+00, -8.71770243e-02,  7.97586876e-02,\n",
       "          7.10840882e-02, -8.92183033e-01,  6.44170772e-01,\n",
       "         -1.23126309e-01, -2.45173898e-01, -2.85208318e-06,\n",
       "         -1.56427570e+00, -4.72143986e-01, -4.55597654e-01,\n",
       "          6.17653451e-02, -8.92679197e-02, -6.38215814e-01,\n",
       "         -1.29622338e-02, -2.46848928e-06,  6.27380651e-01,\n",
       "          1.05016464e-01,  6.81927033e-01,  5.28199959e-01,\n",
       "         -3.30982033e-01,  4.45087347e-01, -5.43763307e-02,\n",
       "         -4.91449888e-01, -2.60078825e-01, -1.05408473e-01,\n",
       "          1.63976155e-01, -5.88158637e-02,  2.52633683e-01,\n",
       "         -5.66242020e-01, -4.28745203e-07,  0.00000000e+00,\n",
       "          2.10471885e-01, -3.60990730e-03, -1.10185774e-01,\n",
       "          2.52433988e-01, -1.21183107e-01, -2.81290550e-01,\n",
       "          0.00000000e+00, -1.08417248e-03, -8.06488114e-01,\n",
       "         -7.73519287e-02, -1.67089429e-01,  2.26645980e-02,\n",
       "         -3.24213124e-01, -1.50552717e-01, -2.55389499e-01,\n",
       "         -2.16881579e-02, -6.11375687e-02,  1.36823350e-01,\n",
       "          2.82041145e-01,  9.62438791e-02,  1.28787630e-01,\n",
       "         -3.54848300e-01,  3.09777478e-02, -7.22882412e-03,\n",
       "         -9.98070146e-02, -2.20904140e-01, -1.04316594e-02,\n",
       "          9.70167041e-02, -4.36475905e-02, -1.42516556e-01,\n",
       "          1.12452971e-01],\n",
       "        [ 0.00000000e+00,  3.79463917e-02, -4.70923547e-02,\n",
       "          8.80367976e-02, -4.98427875e-02, -1.90415590e-01,\n",
       "         -9.66616019e-02, -4.89230200e-03, -1.98620984e-04,\n",
       "          4.14573930e-02,  1.99695921e-01, -1.24422421e-01,\n",
       "          1.46429292e-01, -6.53127412e-02,  6.65773488e-02,\n",
       "         -2.59896484e-03,  2.53936637e-04, -5.08485605e-02,\n",
       "          4.50067520e-02, -2.67567143e-01,  1.84464504e-01,\n",
       "          5.98687790e-02,  1.26926658e-01, -1.84651877e-04,\n",
       "         -3.92664677e-06, -2.21829574e-01, -4.99066611e-01,\n",
       "         -5.06972357e-01, -2.40709006e-01,  1.12405754e-01,\n",
       "         -7.71572597e-02, -4.93069038e-06,  0.00000000e+00,\n",
       "         -3.15617826e-01, -3.99500516e-01, -4.80693307e-02,\n",
       "         -2.83927354e-01, -2.91880636e-01, -4.73085591e-01,\n",
       "          0.00000000e+00, -5.62864442e-05,  5.71932239e-02,\n",
       "          3.46954488e-02,  4.16238847e-01, -3.84374097e-01,\n",
       "         -3.79418540e-01, -4.42214372e-01,  1.78199116e-02,\n",
       "          6.47599811e-03,  3.28899331e-01, -2.55291082e-02,\n",
       "          2.65566112e-01,  2.64451796e-01,  2.74204202e-01,\n",
       "          2.08444476e-01,  1.18676086e-01,  2.17222600e-03,\n",
       "          9.36648876e-02, -9.61423354e-03, -4.32789694e-02,\n",
       "         -9.18473595e-02,  2.58735014e-01,  2.77455374e-01,\n",
       "         -1.49684215e-02],\n",
       "        [ 0.00000000e+00,  4.61939360e-01, -7.72739432e-01,\n",
       "         -4.44790282e-02,  4.37518927e-01, -1.74333726e-01,\n",
       "         -3.43489324e-01, -1.25309527e-02, -3.96907895e-02,\n",
       "         -1.64804896e-01, -1.57714919e-01,  1.04400313e-01,\n",
       "         -2.91648798e-02,  6.21160726e-01,  4.23671685e-01,\n",
       "         -1.62145733e-02, -1.34190273e-04, -1.70616789e-03,\n",
       "         -4.71356593e-01, -5.76999095e-01,  3.06764170e-01,\n",
       "         -5.33135853e-01,  1.87145756e-01, -4.43749088e-03,\n",
       "         -4.80206159e-07, -5.05131054e-01, -6.80906523e-01,\n",
       "         -4.20962864e-02, -2.55915260e-02, -5.27759529e-01,\n",
       "         -1.30700067e+00, -1.52839279e-06,  0.00000000e+00,\n",
       "         -1.88422210e-01, -3.20182923e-01,  1.50876836e-01,\n",
       "         -3.22467989e-01, -1.82331072e-01, -3.35841300e-01,\n",
       "          0.00000000e+00, -9.01257348e-06,  2.79084463e-02,\n",
       "         -3.17589952e-01, -1.02209840e+00,  3.12215279e-01,\n",
       "          1.09832508e+00,  6.25182661e-01, -2.90015399e-02,\n",
       "         -1.35226265e-05, -4.48766051e-01, -2.95950113e-02,\n",
       "         -1.82236477e-01,  1.74586733e-01, -3.63801274e-01,\n",
       "          8.20853394e-01, -5.57615677e-01, -1.69624620e-06,\n",
       "         -1.79686045e-02,  7.63918089e-01, -9.99955558e-02,\n",
       "          4.48274643e-01, -3.64111152e-01, -1.31545112e-01,\n",
       "         -8.62763240e-01],\n",
       "        [ 0.00000000e+00, -3.56103513e-02, -1.14365348e-01,\n",
       "         -6.23227966e-01, -2.83957244e-01, -2.84402671e-01,\n",
       "         -3.47742966e-01,  9.92306326e-02, -9.95371393e-06,\n",
       "         -8.61884558e-02, -1.39727674e-01, -3.58046530e-01,\n",
       "         -4.53971719e-01, -3.42788588e-01, -3.35009081e-01,\n",
       "          1.70443678e-01, -1.05512888e-06,  2.22139470e-01,\n",
       "          2.77836780e-01,  1.73464080e-01, -6.37058999e-02,\n",
       "          1.34980170e-01, -6.46872631e-02,  1.02503210e-01,\n",
       "          4.31545883e-02, -9.02594970e-02,  2.92877597e-01,\n",
       "          2.18778773e-02, -4.45344356e-02,  1.41259630e-01,\n",
       "          4.20988848e-01,  1.75200979e-03,  0.00000000e+00,\n",
       "          2.12626071e-01,  6.39558501e-02, -1.62228287e-02,\n",
       "          3.15427771e-01,  8.07514866e-02,  4.04247548e-01,\n",
       "          0.00000000e+00,  4.20854492e-04,  3.24174972e-01,\n",
       "         -2.08268560e-01,  4.86183794e-01,  1.85677109e-01,\n",
       "          1.28329150e-01,  1.72493276e-02, -2.34817001e-03,\n",
       "         -2.78761702e-04,  2.93317670e-01, -7.75000484e-02,\n",
       "          1.14083169e-01,  1.53470194e-01, -3.75155805e-01,\n",
       "         -4.50366783e-01, -2.10246488e-03, -5.15078204e-04,\n",
       "         -8.16557261e-03, -4.56501131e-02, -2.65353533e-01,\n",
       "         -1.61751610e-01, -2.69547044e-01, -1.12368793e-01,\n",
       "         -6.59841640e-03],\n",
       "        [ 0.00000000e+00,  5.26957226e-02,  5.24324568e-01,\n",
       "         -3.52201048e-01, -6.48626250e-04,  2.78470979e-01,\n",
       "          6.96517060e-01, -2.21832440e-01,  5.69689828e-03,\n",
       "          1.82598330e-02,  2.56148013e-01,  1.46597303e-01,\n",
       "          1.34133534e-01, -1.62340189e-01, -3.64583554e-01,\n",
       "         -1.14050862e-01, -3.20192550e-05, -8.39552559e-02,\n",
       "          2.35271132e-01,  5.52790726e-02, -5.50459851e-01,\n",
       "         -7.99218663e-01, -8.25709069e-01, -1.36932215e-02,\n",
       "         -2.73811497e-02,  1.37535895e-01,  3.31254243e-01,\n",
       "         -2.73555695e-01,  4.51225004e-01,  2.22106780e-02,\n",
       "         -8.82474073e-01, -1.76504796e-06,  0.00000000e+00,\n",
       "         -5.24620803e-01,  1.32314133e-01, -1.10583664e-01,\n",
       "         -2.32619818e-01, -2.60195657e-01,  1.40778817e-01,\n",
       "          0.00000000e+00,  3.22766028e-05, -2.56177911e-01,\n",
       "         -2.20511819e-01, -4.55496534e-01, -2.47651575e-01,\n",
       "          1.87957707e-01, -2.68746348e-02, -1.48269488e-03,\n",
       "          2.48357946e-05,  1.47490608e-01, -1.79763139e-01,\n",
       "          3.13832067e-02,  1.27395677e-02, -2.15304894e-01,\n",
       "         -2.78011989e-01, -3.99031415e-02,  2.86009058e-06,\n",
       "          4.19446601e-03,  2.54375953e-01,  1.08875331e-01,\n",
       "         -2.30180870e-01, -2.11748894e-02, -1.91883830e-01,\n",
       "         -1.30172266e-01],\n",
       "        [ 0.00000000e+00, -2.77357033e-02, -2.18629661e-01,\n",
       "          1.15187725e-01, -2.84072434e-01, -2.02037083e-01,\n",
       "          4.01289255e-02, -3.51881238e-04, -2.53824035e-05,\n",
       "         -2.44586706e-01, -1.92668312e-01, -2.48392679e-01,\n",
       "         -4.25624625e-01,  2.73548894e-02,  2.23126417e-01,\n",
       "         -2.54721037e-04, -3.12185828e-06, -1.50137807e-01,\n",
       "          2.38608027e-01,  4.02226583e-02, -3.88648004e-01,\n",
       "         -8.14858785e-01, -1.49043543e-01, -3.80128718e-04,\n",
       "         -1.31739064e-06,  3.36261647e-01, -2.37856214e-01,\n",
       "          3.50370161e-01, -1.69713026e-01, -2.74672016e-01,\n",
       "         -4.92498273e-01, -1.20143384e-05,  0.00000000e+00,\n",
       "          1.52015021e-02,  3.14367741e-01,  3.76859249e-01,\n",
       "         -1.88840815e-01, -1.88904177e-02,  3.70110008e-02,\n",
       "          0.00000000e+00, -1.56178163e-04, -6.62109848e-01,\n",
       "          5.40769939e-01, -1.10835782e-01,  1.42926762e-01,\n",
       "          1.51214552e-01,  4.05742077e-01,  1.43671701e-01,\n",
       "         -1.08853092e-04, -2.94116118e-01,  3.22351457e-01,\n",
       "          2.44640885e-01, -3.98645362e-01,  2.25296767e-01,\n",
       "          2.27455708e-03, -2.00447451e-01, -5.23341058e-07,\n",
       "         -3.39362831e-02, -4.32560217e-01, -3.27895882e-01,\n",
       "         -9.11058089e-02, -1.07995750e-02, -1.85083969e-01,\n",
       "         -1.65233377e-01],\n",
       "        [ 0.00000000e+00, -1.58625152e-01,  8.94143705e-02,\n",
       "          7.20217551e-02,  4.30707871e-03,  3.13514775e-01,\n",
       "          3.83419395e-01,  1.49679462e-01, -8.88513738e-06,\n",
       "          1.06391068e-01,  2.38011720e-01, -4.77757350e-02,\n",
       "          6.07572587e-01, -1.39784480e-01, -3.12619968e-01,\n",
       "          1.12274452e-01, -2.39162882e-06, -5.49675608e-01,\n",
       "         -2.27374642e-01, -3.35283662e-01,  5.65850248e-02,\n",
       "          3.22829922e-01,  1.24222120e-01,  2.53683458e-02,\n",
       "         -1.92055892e-06, -2.55395112e-01, -8.40398174e-02,\n",
       "         -4.70935302e-01, -2.62061603e-01,  1.67599313e-02,\n",
       "          1.12622330e-01, -1.94627458e-06,  0.00000000e+00,\n",
       "         -1.53853973e-01, -7.78317485e-02,  8.19970281e-02,\n",
       "          1.86080608e-01,  3.34258184e-01, -8.15326230e-02,\n",
       "          0.00000000e+00, -2.95779178e-05, -1.87490104e-01,\n",
       "          8.99767139e-02,  1.36810558e-02,  1.14555327e-01,\n",
       "         -2.19088388e-02,  1.18502437e-01, -2.26768654e-05,\n",
       "         -2.16083351e-05, -2.05369741e-01,  5.61946052e-02,\n",
       "          1.17157652e-01, -5.69820491e-01, -7.88040353e-01,\n",
       "         -1.27705789e-01, -3.17224263e-04, -4.58083146e-06,\n",
       "         -3.48287756e-01, -2.55159442e-01, -2.58124119e-01,\n",
       "         -2.37692823e-01, -5.87676852e-01, -1.98221419e-01,\n",
       "         -4.15046859e-03],\n",
       "        [ 0.00000000e+00, -1.42443861e-01,  1.01998292e-01,\n",
       "         -2.03558599e-01,  5.43138312e-03, -2.85750370e-02,\n",
       "         -5.98064001e-01, -3.98180144e-02,  8.78570894e-01,\n",
       "         -3.12805407e-02,  1.96007678e-01,  6.87923492e-03,\n",
       "         -1.72997640e-01,  1.59787619e-01,  2.54172699e-01,\n",
       "         -1.76253778e-01,  4.47713772e-01,  6.80122966e-02,\n",
       "          1.74325080e-01,  1.01429853e-01,  1.01207006e-02,\n",
       "          5.50332601e-02,  7.85133731e-02, -2.03327768e-01,\n",
       "         -1.02463683e-03, -6.06840083e-02, -4.63531919e-02,\n",
       "          1.38329650e-01, -9.25745588e-02,  8.86969068e-03,\n",
       "          1.61420079e-02, -2.35458104e-04,  0.00000000e+00,\n",
       "         -4.19460459e-01, -1.62773966e-01,  2.78060664e-01,\n",
       "         -4.78189342e-02, -9.34762151e-02, -1.17046073e+00,\n",
       "          0.00000000e+00, -1.26261423e-03,  1.98914806e-01,\n",
       "          1.36016463e-01,  2.84086302e-02,  5.07473034e-02,\n",
       "          4.87268997e-02,  1.95572855e-01, -5.49115549e-02,\n",
       "         -3.26777195e-02, -8.86553121e-02,  1.35976121e-01,\n",
       "         -2.07158806e-01, -1.95233663e-01,  1.19476661e-01,\n",
       "         -9.41138845e-02, -4.37568665e-01, -1.08489510e-02,\n",
       "         -8.55479429e-02, -4.00635599e-01, -7.29945039e-02,\n",
       "          5.14470404e-02, -2.16517517e-01, -4.47864759e-02,\n",
       "         -6.62914670e-02],\n",
       "        [ 0.00000000e+00, -6.94012110e-01, -1.28081930e-01,\n",
       "          3.76844048e-01,  6.58259978e-02, -2.83684799e-01,\n",
       "          3.75410407e-02, -2.94552411e-01, -1.74193954e-04,\n",
       "          5.13035430e-02,  5.21305393e-02, -2.90533610e-02,\n",
       "          1.30754611e-02,  5.54830904e-03,  1.72990041e-01,\n",
       "         -4.83570115e-01, -4.78488505e-06,  2.98769949e-01,\n",
       "          2.68665512e-01,  2.33734018e-01,  1.50918368e-01,\n",
       "          5.82824940e-01,  1.41742903e-01, -4.14119751e-01,\n",
       "         -3.71024772e-07, -2.68549564e-01,  1.73147606e-01,\n",
       "          2.53052584e-01, -4.46612024e-02,  3.51851404e-01,\n",
       "         -3.56655050e-01, -5.07879971e-04,  0.00000000e+00,\n",
       "         -7.68253174e-01, -1.73310737e-01,  5.12601582e-01,\n",
       "         -3.25323285e-01, -2.07044626e-01, -1.20960120e-01,\n",
       "          0.00000000e+00, -4.06884650e-06, -8.36625045e-02,\n",
       "         -7.09215726e-01, -1.37813991e+00, -7.92341252e-01,\n",
       "         -3.53274463e-01, -2.75842726e-01,  1.75339366e-03,\n",
       "         -5.78816090e-06,  1.50824496e-02,  1.91536591e-02,\n",
       "          4.21721030e-02, -6.56369999e-02, -3.68300486e-01,\n",
       "         -2.21607116e-01,  6.09648353e-01, -6.65108394e-07,\n",
       "         -3.06053407e-01, -3.25689703e-01, -1.13093621e-01,\n",
       "         -2.73371167e-02,  9.86522802e-03, -2.07169468e-01,\n",
       "         -2.75474461e-01]]))"
      ]
     },
     "execution_count": 52,
     "metadata": {},
     "output_type": "execute_result"
    }
   ],
   "source": [
    "log_reg.intercept_,log_reg.coef_"
   ]
  },
  {
   "cell_type": "code",
   "execution_count": 54,
   "metadata": {},
   "outputs": [
    {
     "data": {
      "text/plain": [
       "(10, 64)"
      ]
     },
     "execution_count": 54,
     "metadata": {},
     "output_type": "execute_result"
    }
   ],
   "source": [
    "log_reg.coef_.shape"
   ]
  },
  {
   "cell_type": "code",
   "execution_count": 57,
   "metadata": {},
   "outputs": [
    {
     "data": {
      "text/plain": [
       "array([2, 8, 2, 6, 6, 7, 1, 9, 8, 5, 2, 8, 6, 6, 6, 6, 1, 0, 5, 8, 8, 7,\n",
       "       8, 4, 7, 5, 4, 9, 2, 9, 4, 7, 6, 8, 9, 4, 3, 8, 0, 1, 8, 6, 7, 7,\n",
       "       1, 0, 7, 6, 2, 1, 9, 6, 7, 9, 0, 0, 5, 1, 6, 3, 0, 2, 3, 4, 1, 9,\n",
       "       2, 6, 9, 1, 8, 3, 5, 1, 2, 8, 2, 2, 9, 7, 2, 3, 6, 0, 5, 3, 7, 5,\n",
       "       1, 2, 9, 9, 3, 1, 4, 7, 4, 8, 5, 8, 5, 5, 2, 5, 9, 0, 7, 1, 4, 1,\n",
       "       3, 4, 8, 9, 7, 9, 8, 2, 6, 5, 2, 5, 8, 4, 1, 7, 0, 6, 1, 5, 5, 9,\n",
       "       9, 5, 9, 9, 5, 7, 5, 6, 2, 8, 6, 9, 6, 1, 5, 1, 5, 9, 9, 1, 5, 3,\n",
       "       6, 1, 8, 9, 8, 7, 6, 7, 6, 5, 6, 0, 8, 8, 9, 8, 6, 1, 0, 4, 1, 6,\n",
       "       3, 8, 6, 7, 4, 1, 6, 3, 0, 3, 3, 3, 0, 7, 7, 5, 7, 8, 0, 7, 1, 9,\n",
       "       6, 4, 5, 0, 1, 4, 6, 4, 3, 3, 0, 9, 5, 3, 2, 1, 4, 2, 1, 6, 9, 9,\n",
       "       2, 4, 9, 3, 7, 6, 2, 3, 3, 1, 6, 9, 3, 6, 3, 3, 2, 0, 7, 6, 1, 1,\n",
       "       9, 7, 2, 7, 8, 5, 5, 7, 5, 3, 3, 7, 2, 7, 5, 5, 7, 0, 9, 1, 6, 5,\n",
       "       9, 7, 4, 3, 8, 0, 3, 6, 4, 6, 3, 2, 6, 8, 8, 8, 4, 6, 7, 5, 2, 4,\n",
       "       5, 3, 2, 4, 6, 9, 4, 5, 4, 3, 4, 6, 2, 9, 0, 6, 7, 2, 0, 9, 6, 0,\n",
       "       4, 2, 0, 7, 8, 8, 5, 4, 8, 2, 8, 4, 3, 7, 2, 6, 9, 1, 5, 1, 0, 8,\n",
       "       2, 8, 9, 5, 6, 2, 2, 7, 2, 1, 5, 1, 6, 4, 5, 0, 9, 4, 1, 1, 7, 0,\n",
       "       8, 9, 0, 5, 4, 3, 8, 8, 6, 5, 3, 4, 4, 4, 8, 8, 7, 0, 9, 6, 3, 5,\n",
       "       2, 3, 0, 8, 2, 3, 1, 3, 3, 0, 0, 4, 6, 0, 7, 7, 6, 2, 0, 4, 4, 2,\n",
       "       3, 7, 1, 9, 8, 6, 8, 5, 6, 2, 2, 3, 1, 7, 7, 8, 0, 9, 3, 2, 6, 5,\n",
       "       5, 9, 1, 3, 7, 0, 0, 3, 0, 4, 5, 9, 3, 3, 4, 3, 1, 8, 9, 8, 3, 6,\n",
       "       3, 1, 6, 2, 1, 7, 5, 5, 1, 9])"
      ]
     },
     "execution_count": 57,
     "metadata": {},
     "output_type": "execute_result"
    }
   ],
   "source": [
    "prediction = log_reg.predict(x_test)\n",
    "prediction"
   ]
  },
  {
   "cell_type": "code",
   "execution_count": 59,
   "metadata": {},
   "outputs": [
    {
     "data": {
      "text/plain": [
       "array([2, 8, 2, 6, 6, 7, 1, 9, 8, 5, 2, 8, 6, 6, 6, 6, 1, 0, 5, 8, 8, 7,\n",
       "       8, 4, 7, 5, 4, 9, 2, 9, 4, 7, 6, 8, 9, 4, 3, 1, 0, 1, 8, 6, 7, 7,\n",
       "       1, 0, 7, 6, 2, 1, 9, 6, 7, 9, 0, 0, 5, 1, 6, 3, 0, 2, 3, 4, 1, 9,\n",
       "       2, 6, 9, 1, 8, 3, 5, 1, 2, 8, 2, 2, 9, 7, 2, 3, 6, 0, 5, 3, 7, 5,\n",
       "       1, 2, 9, 9, 3, 1, 7, 7, 4, 8, 5, 8, 5, 5, 2, 5, 9, 0, 7, 1, 4, 7,\n",
       "       3, 4, 8, 9, 7, 9, 8, 2, 6, 5, 2, 5, 8, 4, 8, 7, 0, 6, 1, 5, 9, 9,\n",
       "       9, 5, 9, 9, 5, 7, 5, 6, 2, 8, 6, 9, 6, 1, 5, 1, 5, 9, 9, 1, 5, 3,\n",
       "       6, 1, 8, 9, 8, 7, 6, 7, 6, 5, 6, 0, 8, 8, 9, 8, 6, 1, 0, 4, 1, 6,\n",
       "       3, 8, 6, 7, 4, 5, 6, 3, 0, 3, 3, 3, 0, 7, 7, 5, 7, 8, 0, 7, 8, 9,\n",
       "       6, 4, 5, 0, 1, 4, 6, 4, 3, 3, 0, 9, 5, 9, 2, 1, 4, 2, 1, 6, 8, 9,\n",
       "       2, 4, 9, 3, 7, 6, 2, 3, 3, 1, 6, 9, 3, 6, 3, 2, 2, 0, 7, 6, 1, 1,\n",
       "       9, 7, 2, 7, 8, 5, 5, 7, 5, 2, 3, 7, 2, 7, 5, 5, 7, 0, 9, 1, 6, 5,\n",
       "       9, 7, 4, 3, 8, 0, 3, 6, 4, 6, 3, 2, 6, 8, 8, 8, 4, 6, 7, 5, 2, 4,\n",
       "       5, 3, 2, 4, 6, 9, 4, 5, 4, 3, 4, 6, 2, 9, 0, 1, 7, 2, 0, 9, 6, 0,\n",
       "       4, 2, 0, 7, 9, 8, 5, 4, 8, 2, 8, 4, 3, 7, 2, 6, 9, 1, 5, 1, 0, 8,\n",
       "       2, 1, 9, 5, 6, 8, 2, 7, 2, 1, 5, 1, 6, 4, 5, 0, 9, 4, 1, 1, 7, 0,\n",
       "       8, 9, 0, 5, 4, 3, 8, 8, 6, 5, 3, 4, 4, 4, 8, 8, 7, 0, 9, 6, 3, 5,\n",
       "       2, 3, 0, 8, 3, 3, 1, 3, 3, 0, 0, 4, 6, 0, 7, 7, 6, 2, 0, 4, 4, 2,\n",
       "       3, 7, 8, 9, 8, 6, 8, 5, 6, 2, 2, 3, 1, 7, 7, 8, 0, 3, 3, 2, 1, 5,\n",
       "       5, 9, 1, 3, 7, 0, 0, 7, 0, 4, 5, 9, 3, 3, 4, 3, 1, 8, 9, 8, 3, 6,\n",
       "       2, 1, 6, 2, 1, 7, 5, 5, 1, 9])"
      ]
     },
     "execution_count": 59,
     "metadata": {},
     "output_type": "execute_result"
    }
   ],
   "source": [
    "y_test"
   ]
  },
  {
   "cell_type": "code",
   "execution_count": 62,
   "metadata": {},
   "outputs": [
    {
     "data": {
      "text/plain": [
       "array([ True,  True,  True,  True,  True,  True,  True,  True,  True,\n",
       "        True,  True,  True,  True,  True,  True,  True,  True,  True,\n",
       "        True,  True,  True,  True,  True,  True,  True,  True,  True,\n",
       "        True,  True,  True,  True,  True,  True,  True,  True,  True,\n",
       "        True, False,  True,  True,  True,  True,  True,  True,  True,\n",
       "        True,  True,  True,  True,  True,  True,  True,  True,  True,\n",
       "        True,  True,  True,  True,  True,  True,  True,  True,  True,\n",
       "        True,  True,  True,  True,  True,  True,  True,  True,  True,\n",
       "        True,  True,  True,  True,  True,  True,  True,  True,  True,\n",
       "        True,  True,  True,  True,  True,  True,  True,  True,  True,\n",
       "        True,  True,  True,  True, False,  True,  True,  True,  True,\n",
       "        True,  True,  True,  True,  True,  True,  True,  True,  True,\n",
       "        True, False,  True,  True,  True,  True,  True,  True,  True,\n",
       "        True,  True,  True,  True,  True,  True,  True, False,  True,\n",
       "        True,  True,  True,  True, False,  True,  True,  True,  True,\n",
       "        True,  True,  True,  True,  True,  True,  True,  True,  True,\n",
       "        True,  True,  True,  True,  True,  True,  True,  True,  True,\n",
       "        True,  True,  True,  True,  True,  True,  True,  True,  True,\n",
       "        True,  True,  True,  True,  True,  True,  True,  True,  True,\n",
       "        True,  True,  True,  True,  True,  True,  True,  True,  True,\n",
       "        True, False,  True,  True,  True,  True,  True,  True,  True,\n",
       "        True,  True,  True,  True,  True,  True,  True, False,  True,\n",
       "        True,  True,  True,  True,  True,  True,  True,  True,  True,\n",
       "        True,  True,  True,  True, False,  True,  True,  True,  True,\n",
       "        True,  True, False,  True,  True,  True,  True,  True,  True,\n",
       "        True,  True,  True,  True,  True,  True,  True,  True,  True,\n",
       "        True, False,  True,  True,  True,  True,  True,  True,  True,\n",
       "        True,  True,  True,  True,  True,  True,  True,  True, False,\n",
       "        True,  True,  True,  True,  True,  True,  True,  True,  True,\n",
       "        True,  True,  True,  True,  True,  True,  True,  True,  True,\n",
       "        True,  True,  True,  True,  True,  True,  True,  True,  True,\n",
       "        True,  True,  True,  True,  True,  True,  True,  True,  True,\n",
       "        True,  True,  True,  True,  True,  True,  True,  True,  True,\n",
       "        True,  True,  True,  True, False,  True,  True,  True,  True,\n",
       "        True,  True,  True,  True,  True,  True, False,  True,  True,\n",
       "        True,  True,  True,  True,  True,  True,  True,  True,  True,\n",
       "        True,  True,  True,  True,  True,  True,  True, False,  True,\n",
       "        True,  True, False,  True,  True,  True,  True,  True,  True,\n",
       "        True,  True,  True,  True,  True,  True,  True,  True,  True,\n",
       "        True,  True,  True,  True,  True,  True,  True,  True,  True,\n",
       "        True,  True,  True,  True,  True,  True,  True,  True,  True,\n",
       "        True,  True,  True,  True,  True,  True,  True,  True,  True,\n",
       "       False,  True,  True,  True,  True,  True,  True,  True,  True,\n",
       "        True,  True,  True,  True,  True,  True,  True,  True,  True,\n",
       "        True,  True, False,  True,  True,  True,  True,  True,  True,\n",
       "        True,  True,  True,  True,  True,  True,  True,  True, False,\n",
       "        True,  True, False,  True,  True,  True,  True,  True,  True,\n",
       "        True,  True, False,  True,  True,  True,  True,  True,  True,\n",
       "        True,  True,  True,  True,  True,  True,  True,  True, False,\n",
       "        True,  True,  True,  True,  True,  True,  True,  True,  True])"
      ]
     },
     "execution_count": 62,
     "metadata": {},
     "output_type": "execute_result"
    }
   ],
   "source": [
    "prediction == y_test\n"
   ]
  },
  {
   "cell_type": "code",
   "execution_count": 65,
   "metadata": {},
   "outputs": [
    {
     "data": {
      "text/plain": [
       "0.9533333333333334"
      ]
     },
     "execution_count": 65,
     "metadata": {},
     "output_type": "execute_result"
    }
   ],
   "source": [
    "log_reg.score(x_test,y_test)"
   ]
  },
  {
   "cell_type": "code",
   "execution_count": 66,
   "metadata": {},
   "outputs": [],
   "source": [
    "from sklearn.metrics import confusion_matrix"
   ]
  },
  {
   "cell_type": "code",
   "execution_count": 68,
   "metadata": {},
   "outputs": [
    {
     "data": {
      "text/plain": [
       "array([[37,  0,  0,  0,  0,  0,  0,  0,  0,  0],\n",
       "       [ 0, 39,  0,  0,  0,  1,  0,  1,  3,  0],\n",
       "       [ 0,  0, 41,  1,  0,  0,  0,  0,  1,  0],\n",
       "       [ 0,  0,  3, 43,  0,  0,  0,  1,  0,  1],\n",
       "       [ 0,  0,  0,  0, 38,  0,  0,  1,  0,  0],\n",
       "       [ 0,  0,  0,  0,  0, 47,  0,  0,  0,  1],\n",
       "       [ 0,  2,  0,  0,  0,  0, 52,  0,  0,  0],\n",
       "       [ 0,  0,  0,  0,  0,  0,  0, 45,  0,  0],\n",
       "       [ 0,  2,  0,  0,  0,  0,  0,  0, 43,  1],\n",
       "       [ 0,  0,  0,  1,  0,  0,  0,  0,  1, 44]])"
      ]
     },
     "execution_count": 68,
     "metadata": {},
     "output_type": "execute_result"
    }
   ],
   "source": [
    "confusion = confusion_matrix(prediction,y_test)\n",
    "confusion"
   ]
  }
 ],
 "metadata": {
  "kernelspec": {
   "display_name": "Python 3",
   "language": "python",
   "name": "python3"
  },
  "language_info": {
   "codemirror_mode": {
    "name": "ipython",
    "version": 3
   },
   "file_extension": ".py",
   "mimetype": "text/x-python",
   "name": "python",
   "nbconvert_exporter": "python",
   "pygments_lexer": "ipython3",
   "version": "3.7.4"
  }
 },
 "nbformat": 4,
 "nbformat_minor": 2
}
