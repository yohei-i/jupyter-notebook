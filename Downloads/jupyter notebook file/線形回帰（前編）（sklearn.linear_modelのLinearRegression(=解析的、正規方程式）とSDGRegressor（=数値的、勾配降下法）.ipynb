{
 "cells": [
  {
   "cell_type": "code",
   "execution_count": 2,
   "metadata": {},
   "outputs": [],
   "source": [
    "import numpy as np\n",
    "import matplotlib.pyplot as plt\n",
    "%matplotlib inline"
   ]
  },
  {
   "cell_type": "code",
   "execution_count": 3,
   "metadata": {},
   "outputs": [
    {
     "data": {
      "text/plain": [
       "array([[0.79446593],\n",
       "       [0.05092192],\n",
       "       [0.08542697],\n",
       "       [0.43110356],\n",
       "       [0.1082023 ],\n",
       "       [0.48876398],\n",
       "       [0.36885557],\n",
       "       [0.11447388],\n",
       "       [0.28480748],\n",
       "       [0.99601177],\n",
       "       [0.70194081],\n",
       "       [0.1578348 ],\n",
       "       [0.61355698],\n",
       "       [0.93552005],\n",
       "       [0.32124819],\n",
       "       [0.27467152],\n",
       "       [0.72088434],\n",
       "       [0.20771   ],\n",
       "       [0.34382726],\n",
       "       [0.76782114],\n",
       "       [0.04254186],\n",
       "       [0.64403767],\n",
       "       [0.24083839],\n",
       "       [0.35977285],\n",
       "       [0.84976997],\n",
       "       [0.31967667],\n",
       "       [0.050469  ],\n",
       "       [0.44125657],\n",
       "       [0.44064134],\n",
       "       [0.58839144],\n",
       "       [0.60842713],\n",
       "       [0.16168858],\n",
       "       [0.31678994],\n",
       "       [0.04561924],\n",
       "       [0.64076044],\n",
       "       [0.22028025],\n",
       "       [0.06989676],\n",
       "       [0.48055179],\n",
       "       [0.09582667],\n",
       "       [0.25465089],\n",
       "       [0.13953104],\n",
       "       [0.03599712],\n",
       "       [0.7118879 ],\n",
       "       [0.55066999],\n",
       "       [0.08181771],\n",
       "       [0.92213047],\n",
       "       [0.12971439],\n",
       "       [0.50563035],\n",
       "       [0.91851497],\n",
       "       [0.7930381 ],\n",
       "       [0.08933803],\n",
       "       [0.98359961],\n",
       "       [0.60915496],\n",
       "       [0.2626997 ],\n",
       "       [0.14363295],\n",
       "       [0.72408333],\n",
       "       [0.93968858],\n",
       "       [0.80943096],\n",
       "       [0.27149649],\n",
       "       [0.32980757],\n",
       "       [0.71349281],\n",
       "       [0.77161787],\n",
       "       [0.94489738],\n",
       "       [0.63673544],\n",
       "       [0.68635331],\n",
       "       [0.13878623],\n",
       "       [0.90294092],\n",
       "       [0.33475785],\n",
       "       [0.18861644],\n",
       "       [0.26057618],\n",
       "       [0.68799273],\n",
       "       [0.51887561],\n",
       "       [0.10983008],\n",
       "       [0.23100483],\n",
       "       [0.97326317],\n",
       "       [0.51301204],\n",
       "       [0.6360074 ],\n",
       "       [0.51541131],\n",
       "       [0.74635694],\n",
       "       [0.66253121],\n",
       "       [0.36888159],\n",
       "       [0.73233279],\n",
       "       [0.12792124],\n",
       "       [0.40197944],\n",
       "       [0.10813088],\n",
       "       [0.42081288],\n",
       "       [0.94721036],\n",
       "       [0.72657532],\n",
       "       [0.70232126],\n",
       "       [0.63111129],\n",
       "       [0.0740959 ],\n",
       "       [0.7220507 ],\n",
       "       [0.90629708],\n",
       "       [0.50778516],\n",
       "       [0.96053525],\n",
       "       [0.85593349],\n",
       "       [0.29546701],\n",
       "       [0.27321321],\n",
       "       [0.2128266 ],\n",
       "       [0.38233127]])"
      ]
     },
     "execution_count": 3,
     "metadata": {},
     "output_type": "execute_result"
    }
   ],
   "source": [
    "x = np.random.rand(100,1)\n",
    "x"
   ]
  },
  {
   "cell_type": "code",
   "execution_count": 4,
   "metadata": {},
   "outputs": [
    {
     "data": {
      "text/plain": [
       "<matplotlib.collections.PathCollection at 0x11553e250>"
      ]
     },
     "execution_count": 4,
     "metadata": {},
     "output_type": "execute_result"
    },
    {
     "data": {
      "image/png": "[encoded data removed]",
      "text/plain": [
       "<Figure size 432x288 with 1 Axes>"
      ]
     },
     "metadata": {
      "needs_background": "light"
     },
     "output_type": "display_data"
    }
   ],
   "source": [
    "#y＝５＋３xの直線に乱数（ノイズ）をのせてプロット\n",
    "y = 5 + 3*x + np.random.rand(100,1)\n",
    "plt.scatter(x,y)"
   ]
  },
  {
   "cell_type": "code",
   "execution_count": 5,
   "metadata": {},
   "outputs": [],
   "source": [
    "from sklearn.linear_model import LinearRegression"
   ]
  },
  {
   "cell_type": "code",
   "execution_count": 6,
   "metadata": {},
   "outputs": [],
   "source": [
    "lin_reg = LinearRegression().fit(x,y.ravel())"
   ]
  },
  {
   "cell_type": "code",
   "execution_count": 7,
   "metadata": {},
   "outputs": [
    {
     "data": {
      "text/plain": [
       "(5.4849912474056755, array([3.08978822]))"
      ]
     },
     "execution_count": 7,
     "metadata": {},
     "output_type": "execute_result"
    }
   ],
   "source": [
    "lin_reg.intercept_, lin_reg.coef_"
   ]
  },
  {
   "cell_type": "code",
   "execution_count": 14,
   "metadata": {},
   "outputs": [
    {
     "data": {
      "text/plain": [
       "<matplotlib.collections.PathCollection at 0x1a19621fd0>"
      ]
     },
     "execution_count": 14,
     "metadata": {},
     "output_type": "execute_result"
    },
    {
     "data": {
      "image/png": "[encoded data removed]",
      "text/plain": [
       "<Figure size 432x288 with 1 Axes>"
      ]
     },
     "metadata": {
      "needs_background": "light"
     },
     "output_type": "display_data"
    }
   ],
   "source": [
    "x_new = np.array([[0],[1]])\n",
    "plt.plot(x_new, lin_reg.intercept_+lin_reg.coef_*x_new, c=\"red\")\n",
    "plt.scatter(x,y)"
   ]
  },
  {
   "cell_type": "code",
   "execution_count": 38,
   "metadata": {},
   "outputs": [],
   "source": [
    "from sklearn.linear_model import  SGDRegressor"
   ]
  },
  {
   "cell_type": "code",
   "execution_count": 40,
   "metadata": {},
   "outputs": [],
   "source": [
    "sgd_reg = SGDRegressor(max_iter=100).fit(x,y.ravel())"
   ]
  },
  {
   "cell_type": "code",
   "execution_count": 42,
   "metadata": {},
   "outputs": [
    {
     "data": {
      "text/plain": [
       "(array([5.49898914]), array([2.88475486]))"
      ]
     },
     "execution_count": 42,
     "metadata": {},
     "output_type": "execute_result"
    }
   ],
   "source": [
    "sgd_reg.intercept_,sgd_reg.coef_"
   ]
  },
  {
   "cell_type": "code",
   "execution_count": 46,
   "metadata": {},
   "outputs": [
    {
     "name": "stderr",
     "output_type": "stream",
     "text": [
      "/Users/seru/opt/anaconda3/lib/python3.7/site-packages/sklearn/linear_model/stochastic_gradient.py:1185: ConvergenceWarning: Maximum number of iteration reached before convergence. Consider increasing max_iter to improve the fit.\n",
      "  ConvergenceWarning)\n"
     ]
    },
    {
     "data": {
      "text/plain": [
       "(array([0.84840973]), array([0.44029754]))"
      ]
     },
     "execution_count": 46,
     "metadata": {},
     "output_type": "execute_result"
    }
   ],
   "source": [
    "#学習率を低くしすぎた場合\n",
    "sgd_reg_00001 = SGDRegressor(eta0=0.0001,max_iter=100).fit(x,y.ravel())\n",
    "sgd_reg_00001.intercept_,sgd_reg_00001.coef_\n",
    "plt.plot(x_new, sgd_reg_00001.intercept_+sgd_reg_00001.coef_*x_new, c=\"red\")\n",
    "plt.scatter(x,y)"
   ]
  },
  {
   "cell_type": "code",
   "execution_count": 49,
   "metadata": {},
   "outputs": [
    {
     "data": {
      "text/plain": [
       "<matplotlib.collections.PathCollection at 0x1a223b17d0>"
      ]
     },
     "execution_count": 49,
     "metadata": {},
     "output_type": "execute_result"
    },
    {
     "data": {
      "image/png": "[encoded data removed]",
      "text/plain": [
       "<Figure size 432x288 with 1 Axes>"
      ]
     },
     "metadata": {
      "needs_background": "light"
     },
     "output_type": "display_data"
    }
   ],
   "source": []
  },
  {
   "cell_type": "code",
   "execution_count": 55,
   "metadata": {},
   "outputs": [
    {
     "data": {
      "text/plain": [
       "<matplotlib.collections.PathCollection at 0x1a22389950>"
      ]
     },
     "execution_count": 55,
     "metadata": {},
     "output_type": "execute_result"
    },
    {
     "data": {
      "image/png": "[encoded data removed]",
      "text/plain": [
       "<Figure size 432x288 with 1 Axes>"
      ]
     },
     "metadata": {
      "needs_background": "light"
     },
     "output_type": "display_data"
    }
   ],
   "source": [
    "#学習率を高くしすぎた場合\n",
    "sgd_reg_100 = SGDRegressor(eta0=100,max_iter=100).fit(x,y.ravel())\n",
    "sgd_reg_100.intercept_,sgd_reg_100.coef_\n",
    "plt.plot(x_new, sgd_reg_100.intercept_ + sgd_reg_100.coef_*x_new,c='red')\n",
    "plt.scatter(x,y)"
   ]
  },
  {
   "cell_type": "code",
   "execution_count": 26,
   "metadata": {},
   "outputs": [
    {
     "data": {
      "text/plain": [
       "[<matplotlib.lines.Line2D at 0x1a198432d0>]"
      ]
     },
     "execution_count": 26,
     "metadata": {},
     "output_type": "execute_result"
    },
    {
     "data": {
      "image/png": "[encoded data removed]",
      "text/plain": [
       "<Figure size 432x288 with 1 Axes>"
      ]
     },
     "metadata": {
      "needs_background": "light"
     },
     "output_type": "display_data"
    }
   ],
   "source": [
    "y_new=np.array([[1],[2]])\n",
    "plt.plot(x_new,y_new)"
   ]
  }
 ],
 "metadata": {
  "kernelspec": {
   "display_name": "Python 3",
   "language": "python",
   "name": "python3"
  },
  "language_info": {
   "codemirror_mode": {
    "name": "ipython",
    "version": 3
   },
   "file_extension": ".py",
   "mimetype": "text/x-python",
   "name": "python",
   "nbconvert_exporter": "python",
   "pygments_lexer": "ipython3",
   "version": "3.7.4"
  }
 },
 "nbformat": 4,
 "nbformat_minor": 2
}
